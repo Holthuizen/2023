{
 "cells": [
  {
   "cell_type": "code",
   "execution_count": 1,
   "metadata": {},
   "outputs": [],
   "source": [
    "#setup\n",
    "import numpy as np\n",
    "import matplotlib.pyplot as plt\n",
    "import regex as re\n",
    "DAY = 2\n",
    "FIRST_PART_DONE = False #set to false to true switch to part 2"
   ]
  },
  {
   "cell_type": "markdown",
   "metadata": {},
   "source": [
    "# Part 1"
   ]
  },
  {
   "cell_type": "code",
   "execution_count": 2,
   "metadata": {},
   "outputs": [
    {
     "name": "stdout",
     "output_type": "stream",
     "text": [
      "answer: 2810\n"
     ]
    }
   ],
   "source": [
    "# 12 red cubes, 13 green cubes, and 14 blue cubes\n",
    "def impossible(red, green, blue):\n",
    "    if (red > 12):\n",
    "        return True\n",
    "    if (green > 13):\n",
    "        return True\n",
    "    if (blue > 14):\n",
    "        return True\n",
    "    return False\n",
    "\n",
    "\n",
    "possible_game_ids = []\n",
    "\n",
    "games = [*open(\"input.txt\")]\n",
    "for id, game in enumerate(games):\n",
    "    matches = re.findall(r'(\\d+) red', game)\n",
    "    red = max([int(m) for m in matches])\n",
    "    matches = re.findall(r'(\\d+) green', game)\n",
    "    green = max([int(m) for m in matches])\n",
    "    matches = re.findall(r'(\\d+) blue', game)\n",
    "    blue = max([int(m) for m in matches])\n",
    "\n",
    "    if red == []:\n",
    "        red = 0\n",
    "    if green == []:\n",
    "        green = 0\n",
    "    if blue == []:\n",
    "        blue = 0\n",
    "\n",
    "    #check if the game is possible\n",
    "    if not impossible(red, green, blue):\n",
    "        #print(id+1, red, green, blue, game)\n",
    "        possible_game_ids.append((id+1))\n",
    "\n",
    "    #Determine which games would have been possible if the bag had been loaded with only 12 red cubes, 13 green cubes, and 14 blue cubes. What is the sum of the IDs of those games?\n",
    "print(\"answer:\", sum(possible_game_ids))"
   ]
  },
  {
   "cell_type": "markdown",
   "metadata": {},
   "source": [
    "# Part 2"
   ]
  },
  {
   "cell_type": "code",
   "execution_count": 3,
   "metadata": {},
   "outputs": [
    {
     "name": "stdout",
     "output_type": "stream",
     "text": [
      "answer: 69110\n"
     ]
    }
   ],
   "source": [
    "powers = []\n",
    "\n",
    "games = [*open(\"input.txt\")]\n",
    "for id, game in enumerate(games):\n",
    "    matches = re.findall(r'(\\d+) red', game)\n",
    "    red = max([int(m) for m in matches])\n",
    "    matches = re.findall(r'(\\d+) green', game)\n",
    "    green = max([int(m) for m in matches])\n",
    "    matches = re.findall(r'(\\d+) blue', game)\n",
    "    blue = max([int(m) for m in matches])\n",
    "\n",
    "    if red == []:\n",
    "        red = 0\n",
    "    if green == []:\n",
    "        green = 0\n",
    "    if blue == []:\n",
    "        blue = 0\n",
    "\n",
    "    #For each game, find the minimum set of cubes that must have been present. What is the sum of the power of these sets?\n",
    "    v = red * green * blue\n",
    "    powers.append(v)\n",
    "\n",
    "print(\"answer:\", sum(powers))"
   ]
  },
  {
   "cell_type": "markdown",
   "metadata": {},
   "source": [
    "# Part 2"
   ]
  },
  {
   "cell_type": "markdown",
   "metadata": {},
   "source": []
  }
 ],
 "metadata": {
  "kernelspec": {
   "display_name": "Python 3",
   "language": "python",
   "name": "python3"
  },
  "language_info": {
   "codemirror_mode": {
    "name": "ipython",
    "version": 3
   },
   "file_extension": ".py",
   "mimetype": "text/x-python",
   "name": "python",
   "nbconvert_exporter": "python",
   "pygments_lexer": "ipython3",
   "version": "3.11.0"
  }
 },
 "nbformat": 4,
 "nbformat_minor": 2
}
