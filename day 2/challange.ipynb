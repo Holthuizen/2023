{
 "cells": [
  {
   "cell_type": "code",
   "execution_count": 2,
   "metadata": {},
   "outputs": [],
   "source": [
    "#setup\n",
    "import numpy as np\n",
    "import matplotlib.pyplot as plt\n",
    "import regex as re\n",
    "DAY = 2"
   ]
  },
  {
   "cell_type": "markdown",
   "metadata": {},
   "source": [
    "# Part 1"
   ]
  },
  {
   "cell_type": "code",
   "execution_count": 4,
   "metadata": {},
   "outputs": [
    {
     "name": "stdout",
     "output_type": "stream",
     "text": [
      "answer: 2810\n"
     ]
    }
   ],
   "source": [
    "# 12 red cubes, 13 green cubes, and 14 blue cubes\n",
    "def impossible(red, green, blue):\n",
    "    return (red > 12) or (green > 13) or (blue > 14)\n",
    "\n",
    "#list to keep track of ids from the impossible games\n",
    "possible_game_ids = []\n",
    "\n",
    "#open as list of lines\n",
    "games = [*open(\"input.txt\")]\n",
    "\n",
    "for id, game in enumerate(games):\n",
    "    red, green, blue = (max([int(m) for m in re.findall(r'(\\d+) ' + color, game)], default=0) for color in ['red', 'green', 'blue'])\n",
    "    #check if the game is possible\n",
    "    if not impossible(red, green, blue):\n",
    "        possible_game_ids.append((id+1))\n",
    "\n",
    "    #Determine which games would have been possible if the bag had been loaded with only 12 red cubes, 13 green cubes, and 14 blue cubes. What is the sum of the IDs of those games?\n",
    "print(\"answer:\", sum(possible_game_ids))"
   ]
  },
  {
   "cell_type": "markdown",
   "metadata": {},
   "source": [
    "# Part 2"
   ]
  },
  {
   "cell_type": "code",
   "execution_count": 5,
   "metadata": {},
   "outputs": [
    {
     "name": "stdout",
     "output_type": "stream",
     "text": [
      "answer: 69110\n"
     ]
    }
   ],
   "source": [
    "powers = []\n",
    "\n",
    "games = [*open(\"input.txt\")]\n",
    "for id, game in enumerate(games):\n",
    "    red, green, blue = (max([int(m) for m in re.findall(r'(\\d+) ' + color, game)], default=0) for color in ['red', 'green', 'blue'])\n",
    "    #check if the game is possible\n",
    "    if not impossible(red, green, blue):\n",
    "        possible_game_ids.append((id+1))\n",
    "    #For each game, find the minimum set of cubes that must have been present. What is the sum of the power of these sets?\n",
    "    v = red * green * blue\n",
    "    powers.append(v)\n",
    "\n",
    "print(\"answer:\", sum(powers))"
   ]
  },
  {
   "cell_type": "code",
   "execution_count": 3,
   "metadata": {},
   "outputs": [
    {
     "data": {
      "text/plain": [
       "['Game 1: 1 blue; 4 green, 5 blue; 11 red, 3 blue, 11 green; 1 red, 10 green, 4 blue; 17 red, 12 green, 7 blue; 3 blue, 19 green, 15 red\\n',\n",
       " 'Game 2: 17 red, 10 green; 3 blue, 17 red, 7 green; 10 green, 1 blue, 10 red; 7 green, 15 red, 1 blue; 7 green, 8 blue, 16 red; 18 red, 5 green, 3 blue\\n',\n",
       " 'Game 3: 10 blue, 3 green, 8 red; 15 green, 14 blue, 1 red; 8 blue, 11 red, 2 green; 5 red, 9 green, 6 blue\\n',\n",
       " 'Game 4: 1 red, 3 blue; 3 blue, 3 green, 1 red; 11 blue, 2 green; 2 green, 14 blue; 1 green, 7 blue; 11 blue, 5 green\\n',\n",
       " 'Game 5: 9 green, 5 red, 10 blue; 9 red, 4 blue, 12 green; 9 green, 6 blue, 14 red; 16 green, 8 red, 6 blue; 11 blue, 13 red, 1 green\\n',\n",
       " 'Game 6: 1 blue, 2 green, 16 red; 1 green, 19 red; 1 blue; 3 blue, 2 red, 1 green; 18 red, 2 blue, 1 green\\n',\n",
       " 'Game 7: 2 blue, 9 red, 5 green; 11 blue, 6 green, 4 red; 7 red, 3 green, 5 blue; 5 green, 11 blue, 7 red; 17 blue, 4 red, 3 green; 20 blue, 1 green, 2 red\\n',\n",
       " 'Game 8: 1 green, 6 red, 4 blue; 8 green, 4 blue, 2 red; 2 blue, 5 green\\n',\n",
       " 'Game 9: 1 green, 5 blue; 4 blue; 2 red, 1 blue\\n',\n",
       " 'Game 10: 1 green, 12 blue; 6 red, 4 green; 5 green, 14 blue, 9 red; 6 red, 13 blue, 2 green; 6 red, 17 blue, 1 green\\n']"
      ]
     },
     "execution_count": 3,
     "metadata": {},
     "output_type": "execute_result"
    }
   ],
   "source": [
    "[*open(\"input.txt\")][0:10]"
   ]
  },
  {
   "cell_type": "markdown",
   "metadata": {},
   "source": [
    "# Part 2"
   ]
  },
  {
   "cell_type": "markdown",
   "metadata": {},
   "source": []
  }
 ],
 "metadata": {
  "kernelspec": {
   "display_name": "Python 3",
   "language": "python",
   "name": "python3"
  },
  "language_info": {
   "codemirror_mode": {
    "name": "ipython",
    "version": 3
   },
   "file_extension": ".py",
   "mimetype": "text/x-python",
   "name": "python",
   "nbconvert_exporter": "python",
   "pygments_lexer": "ipython3",
   "version": "3.11.0"
  }
 },
 "nbformat": 4,
 "nbformat_minor": 2
}
