{
 "cells": [
  {
   "cell_type": "code",
   "execution_count": 2,
   "metadata": {},
   "outputs": [],
   "source": [
    "#setup\n",
    "import numpy as np\n",
    "import matplotlib.pyplot as plt\n",
    "import regex as re\n",
    "DAY = 2\n",
    "FIRST_PART_DONE = False #set to false to true switch to part 2"
   ]
  },
  {
   "cell_type": "markdown",
   "metadata": {},
   "source": [
    "# Part 1"
   ]
  },
  {
   "cell_type": "code",
   "execution_count": 4,
   "metadata": {},
   "outputs": [
    {
     "name": "stdout",
     "output_type": "stream",
     "text": [
      "answer: 2810\n"
     ]
    }
   ],
   "source": [
    "# 12 red cubes, 13 green cubes, and 14 blue cubes\n",
    "def impossible(red, green, blue):\n",
    "    return (red > 12) or (green > 13) or (blue > 14)\n",
    "\n",
    "#list to keep track of ids from the impossible games\n",
    "possible_game_ids = []\n",
    "\n",
    "#open as list of lines\n",
    "games = [*open(\"input.txt\")]\n",
    "\n",
    "for id, game in enumerate(games):\n",
    "    red, green, blue = (max([int(m) for m in re.findall(r'(\\d+) ' + color, game)], default=0) for color in ['red', 'green', 'blue'])\n",
    "    #check if the game is possible\n",
    "    if not impossible(red, green, blue):\n",
    "        possible_game_ids.append((id+1))\n",
    "\n",
    "    #Determine which games would have been possible if the bag had been loaded with only 12 red cubes, 13 green cubes, and 14 blue cubes. What is the sum of the IDs of those games?\n",
    "print(\"answer:\", sum(possible_game_ids))"
   ]
  },
  {
   "cell_type": "markdown",
   "metadata": {},
   "source": [
    "# Part 2"
   ]
  },
  {
   "cell_type": "code",
   "execution_count": 5,
   "metadata": {},
   "outputs": [
    {
     "name": "stdout",
     "output_type": "stream",
     "text": [
      "answer: 69110\n"
     ]
    }
   ],
   "source": [
    "powers = []\n",
    "\n",
    "games = [*open(\"input.txt\")]\n",
    "for id, game in enumerate(games):\n",
    "    red, green, blue = (max([int(m) for m in re.findall(r'(\\d+) ' + color, game)], default=0) for color in ['red', 'green', 'blue'])\n",
    "    #check if the game is possible\n",
    "    if not impossible(red, green, blue):\n",
    "        possible_game_ids.append((id+1))\n",
    "    #For each game, find the minimum set of cubes that must have been present. What is the sum of the power of these sets?\n",
    "    v = red * green * blue\n",
    "    powers.append(v)\n",
    "\n",
    "print(\"answer:\", sum(powers))"
   ]
  },
  {
   "cell_type": "markdown",
   "metadata": {},
   "source": [
    "# Part 2"
   ]
  },
  {
   "cell_type": "markdown",
   "metadata": {},
   "source": []
  }
 ],
 "metadata": {
  "kernelspec": {
   "display_name": "Python 3",
   "language": "python",
   "name": "python3"
  },
  "language_info": {
   "codemirror_mode": {
    "name": "ipython",
    "version": 3
   },
   "file_extension": ".py",
   "mimetype": "text/x-python",
   "name": "python",
   "nbconvert_exporter": "python",
   "pygments_lexer": "ipython3",
   "version": "3.11.0"
  }
 },
 "nbformat": 4,
 "nbformat_minor": 2
}
