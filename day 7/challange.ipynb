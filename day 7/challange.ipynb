{
 "cells": [
  {
   "cell_type": "code",
   "execution_count": null,
   "metadata": {},
   "outputs": [],
   "source": [
    "#setup\n",
    "import math\n",
    "import numpy as np\n",
    "DAY = 7\n"
   ]
  },
  {
   "cell_type": "markdown",
   "metadata": {},
   "source": [
    "# Part 1"
   ]
  },
  {
   "cell_type": "code",
   "execution_count": null,
   "metadata": {},
   "outputs": [],
   "source": [
    "#oder the set of hands to get the ranks\n",
    "#multiply rank with bid for all cards and sum them\n",
    "'''\n",
    "32T3K 765\n",
    "T55J5 684\n",
    "KK677 28\n",
    "KTJJT 220\n",
    "QQQJA 483'''"
   ]
  },
  {
   "cell_type": "code",
   "execution_count": null,
   "metadata": {},
   "outputs": [],
   "source": [
    "from collections import Counter\n",
    "\n",
    "def five_of_a_kind(H):\n",
    "    return len(set(H)) == 1\n",
    "#Four of a kind, where four cards have the same label and one card has a different label: AA8AA\n",
    "def four_of_a_kind(H):\n",
    "    return len(set(H)) == 2\n",
    "#Full house, where three cards have the same label, and the remaining two cards share a different label: 23332\n",
    "def full_house(H):\n",
    "    return len(set(H) == 3)\n",
    "#Three of a kind, where three cards have the same label, and the remaining two cards are each different from any other card in the hand: TTT98\n",
    "def three_of_a_kind(H):\n",
    "    return Counter(H) \n",
    "\n",
    "def ranking(hands):\n",
    "    ordered = []\n",
    "    for i in range(5):\n",
    "        for hand in hands: \n",
    "            "
   ]
  },
  {
   "cell_type": "code",
   "execution_count": null,
   "metadata": {},
   "outputs": [],
   "source": [
    "Counter([4,3,4,3,3,3])"
   ]
  },
  {
   "cell_type": "markdown",
   "metadata": {},
   "source": [
    "# Part 2"
   ]
  },
  {
   "cell_type": "markdown",
   "metadata": {},
   "source": []
  }
 ],
 "metadata": {
  "kernelspec": {
   "display_name": "Python 3",
   "language": "python",
   "name": "python3"
  },
  "language_info": {
   "codemirror_mode": {
    "name": "ipython",
    "version": 3
   },
   "file_extension": ".py",
   "mimetype": "text/x-python",
   "name": "python",
   "nbconvert_exporter": "python",
   "pygments_lexer": "ipython3",
   "version": "3.11.0"
  }
 },
 "nbformat": 4,
 "nbformat_minor": 2
}
