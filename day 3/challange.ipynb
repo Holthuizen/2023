{
 "cells": [
  {
   "cell_type": "code",
   "execution_count": 1,
   "metadata": {},
   "outputs": [],
   "source": [
    "#setup\n",
    "import numpy as np\n",
    "import matplotlib.pyplot as plt\n",
    "import regex as re\n",
    "DAY = 3"
   ]
  },
  {
   "cell_type": "markdown",
   "metadata": {},
   "source": [
    "# Part 1"
   ]
  },
  {
   "cell_type": "code",
   "execution_count": 3,
   "metadata": {},
   "outputs": [
    {
     "data": {
      "text/plain": [
       "(999, 1)"
      ]
     },
     "execution_count": 3,
     "metadata": {},
     "output_type": "execute_result"
    }
   ],
   "source": [
    "#investigate the numbers\n",
    "lines = [*open(\"input.txt\")]\n",
    "text = \"\".join(lines)\n",
    "all_numbers_str = re.findall(r\"\\d+\", text)\n",
    "all_numbers_int = [int(nr) for nr in all_numbers_str]\n",
    "max(all_numbers_int), min(all_numbers_int)"
   ]
  },
  {
   "cell_type": "code",
   "execution_count": 4,
   "metadata": {},
   "outputs": [
    {
     "data": {
      "text/plain": [
       "2"
      ]
     },
     "execution_count": 4,
     "metadata": {},
     "output_type": "execute_result"
    }
   ],
   "source": [
    "\n",
    "nr = np.array(all_numbers_int)\n",
    "len(nr[nr==100])"
   ]
  },
  {
   "cell_type": "code",
   "execution_count": 6,
   "metadata": {},
   "outputs": [
    {
     "name": "stdout",
     "output_type": "stream",
     "text": [
      "141\n",
      "141\n",
      "141\n",
      "141\n",
      "141\n",
      "141\n",
      "141\n",
      "141\n",
      "141\n",
      "141\n",
      "141\n",
      "141\n",
      "141\n",
      "141\n",
      "141\n",
      "141\n",
      "141\n",
      "141\n",
      "141\n",
      "141\n",
      "141\n",
      "141\n",
      "141\n",
      "141\n",
      "141\n",
      "141\n",
      "141\n",
      "141\n",
      "141\n",
      "141\n",
      "141\n",
      "141\n",
      "141\n",
      "141\n",
      "141\n",
      "141\n",
      "141\n",
      "141\n",
      "141\n",
      "141\n",
      "141\n",
      "141\n",
      "141\n",
      "141\n",
      "141\n",
      "141\n",
      "141\n",
      "141\n",
      "141\n",
      "141\n",
      "141\n",
      "141\n",
      "141\n",
      "141\n",
      "141\n",
      "141\n",
      "141\n",
      "141\n",
      "141\n",
      "141\n",
      "141\n",
      "141\n",
      "141\n",
      "141\n",
      "141\n",
      "141\n",
      "141\n",
      "141\n",
      "141\n",
      "141\n",
      "141\n",
      "141\n",
      "141\n",
      "141\n",
      "141\n",
      "141\n",
      "141\n",
      "141\n",
      "141\n",
      "141\n",
      "141\n",
      "141\n",
      "141\n",
      "141\n",
      "141\n",
      "141\n",
      "141\n",
      "141\n",
      "141\n",
      "141\n",
      "141\n",
      "141\n",
      "141\n",
      "141\n",
      "141\n",
      "141\n",
      "141\n",
      "141\n",
      "141\n",
      "141\n",
      "141\n",
      "141\n",
      "141\n",
      "141\n",
      "141\n",
      "141\n",
      "141\n",
      "141\n",
      "141\n",
      "141\n",
      "141\n",
      "141\n",
      "141\n",
      "141\n",
      "141\n",
      "141\n",
      "141\n",
      "141\n",
      "141\n",
      "141\n",
      "141\n",
      "141\n",
      "141\n",
      "141\n",
      "141\n",
      "141\n",
      "141\n",
      "141\n",
      "141\n",
      "141\n",
      "141\n",
      "141\n",
      "141\n",
      "141\n",
      "141\n",
      "141\n",
      "141\n",
      "141\n",
      "141\n",
      "140\n"
     ]
    }
   ],
   "source": [
    "for line in lines: \n",
    "    print(len(line))"
   ]
  },
  {
   "cell_type": "code",
   "execution_count": 7,
   "metadata": {},
   "outputs": [
    {
     "ename": "SyntaxError",
     "evalue": "'(' was never closed (3515084179.py, line 19)",
     "output_type": "error",
     "traceback": [
      "\u001b[1;36m  Cell \u001b[1;32mIn[7], line 19\u001b[1;36m\u001b[0m\n\u001b[1;33m    right = (line[min(index+size+1, len(line))] !=\u001b[0m\n\u001b[1;37m            ^\u001b[0m\n\u001b[1;31mSyntaxError\u001b[0m\u001b[1;31m:\u001b[0m '(' was never closed\n"
     ]
    }
   ],
   "source": [
    "#lets find the useless numbers, so the numbers without a symbol near by\n",
    "for number in all_numbers_str:\n",
    "    useless(number,text)\n",
    "\n",
    "def number_size(nr):\n",
    "    if nr < 10: \n",
    "        return 1\n",
    "    if nr < 100:\n",
    "        return 10\n",
    "    if nr < 1000: \n",
    "        return 100\n",
    "def useless(nr, lines):\n",
    "    index = text.find(nr)\n",
    "    size = number_size(nr)\n",
    "    #above\n",
    "    #below\n",
    "\n",
    "    left = (line[max(index-1,0)] != \".\")\n",
    "    right = (line[min(index+size+1, len(line))] != \".\")\n",
    "\n",
    "    return True\n",
    "\n"
   ]
  },
  {
   "cell_type": "markdown",
   "metadata": {},
   "source": [
    "# Part 2"
   ]
  },
  {
   "cell_type": "code",
   "execution_count": null,
   "metadata": {},
   "outputs": [
    {
     "name": "stdout",
     "output_type": "stream",
     "text": [
      "answer: 69110\n"
     ]
    }
   ],
   "source": []
  },
  {
   "cell_type": "code",
   "execution_count": null,
   "metadata": {},
   "outputs": [
    {
     "data": {
      "text/plain": [
       "['Game 1: 1 blue; 4 green, 5 blue; 11 red, 3 blue, 11 green; 1 red, 10 green, 4 blue; 17 red, 12 green, 7 blue; 3 blue, 19 green, 15 red\\n',\n",
       " 'Game 2: 17 red, 10 green; 3 blue, 17 red, 7 green; 10 green, 1 blue, 10 red; 7 green, 15 red, 1 blue; 7 green, 8 blue, 16 red; 18 red, 5 green, 3 blue\\n',\n",
       " 'Game 3: 10 blue, 3 green, 8 red; 15 green, 14 blue, 1 red; 8 blue, 11 red, 2 green; 5 red, 9 green, 6 blue\\n',\n",
       " 'Game 4: 1 red, 3 blue; 3 blue, 3 green, 1 red; 11 blue, 2 green; 2 green, 14 blue; 1 green, 7 blue; 11 blue, 5 green\\n',\n",
       " 'Game 5: 9 green, 5 red, 10 blue; 9 red, 4 blue, 12 green; 9 green, 6 blue, 14 red; 16 green, 8 red, 6 blue; 11 blue, 13 red, 1 green\\n',\n",
       " 'Game 6: 1 blue, 2 green, 16 red; 1 green, 19 red; 1 blue; 3 blue, 2 red, 1 green; 18 red, 2 blue, 1 green\\n',\n",
       " 'Game 7: 2 blue, 9 red, 5 green; 11 blue, 6 green, 4 red; 7 red, 3 green, 5 blue; 5 green, 11 blue, 7 red; 17 blue, 4 red, 3 green; 20 blue, 1 green, 2 red\\n',\n",
       " 'Game 8: 1 green, 6 red, 4 blue; 8 green, 4 blue, 2 red; 2 blue, 5 green\\n',\n",
       " 'Game 9: 1 green, 5 blue; 4 blue; 2 red, 1 blue\\n',\n",
       " 'Game 10: 1 green, 12 blue; 6 red, 4 green; 5 green, 14 blue, 9 red; 6 red, 13 blue, 2 green; 6 red, 17 blue, 1 green\\n']"
      ]
     },
     "execution_count": 3,
     "metadata": {},
     "output_type": "execute_result"
    }
   ],
   "source": [
    "[*open(\"input.txt\")][0:10]"
   ]
  },
  {
   "cell_type": "markdown",
   "metadata": {},
   "source": [
    "# Part 2"
   ]
  },
  {
   "cell_type": "markdown",
   "metadata": {},
   "source": []
  }
 ],
 "metadata": {
  "kernelspec": {
   "display_name": "Python 3",
   "language": "python",
   "name": "python3"
  },
  "language_info": {
   "codemirror_mode": {
    "name": "ipython",
    "version": 3
   },
   "file_extension": ".py",
   "mimetype": "text/x-python",
   "name": "python",
   "nbconvert_exporter": "python",
   "pygments_lexer": "ipython3",
   "version": "3.11.0"
  }
 },
 "nbformat": 4,
 "nbformat_minor": 2
}
