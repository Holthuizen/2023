{
 "cells": [
  {
   "cell_type": "code",
   "execution_count": 10,
   "metadata": {},
   "outputs": [],
   "source": [
    "import sys\n",
    "import math\n",
    "# Set the maximum recursion depth to 20k\n",
    "sys.setrecursionlimit(25000)"
   ]
  },
  {
   "cell_type": "code",
   "execution_count": 7,
   "metadata": {},
   "outputs": [],
   "source": [
    "#recursive, this might be slow\n",
    "def walk(key, step_count, instructions, network_map):\n",
    "    #print(key, step_count)\n",
    "    if key == \"ZZZ\":\n",
    "        return \"answer:\", step_count\n",
    "    if len(instructions) < 1:\n",
    "        return \"end of the line\", step_count\n",
    "    _inst = instructions.pop(0)\n",
    "    key = network_map[key][int(_inst == \"R\")]\n",
    "    step_count+= 1\n",
    "    return walk(key=key, step_count=step_count, instructions=instructions, network_map=network_map)\n",
    "\n",
    "\n",
    "def walk_p2(key, targets, step_count, instructions, network_map):\n",
    "    #print(key, step_count)\n",
    "    if key in targets:\n",
    "        return f\"nr of steps for {key} : {step_count}\", step_count\n",
    "    if len(instructions) < 1:\n",
    "        return \"end of the line\", step_count\n",
    "    _inst = instructions.pop(0)\n",
    "    key = network_map[key][int(_inst == \"R\")]\n",
    "    step_count+= 1\n",
    "    return walk_p2(key=key, targets=targets, step_count=step_count, instructions=instructions, network_map=network_map)"
   ]
  },
  {
   "cell_type": "code",
   "execution_count": 8,
   "metadata": {},
   "outputs": [
    {
     "data": {
      "text/plain": [
       "('answer:', 12737)"
      ]
     },
     "execution_count": 8,
     "metadata": {},
     "output_type": "execute_result"
    }
   ],
   "source": [
    "#part 1\n",
    "lines = [*open(\"input.txt\")]\n",
    "network_map = {line[:3]: line[6:-2].replace(\"(\", \"\").split(\", \") for line in lines}\n",
    "\n",
    "instructions = \"LRRRLRRRLRRLRLRRLRLRRLRRLRLLRRRLRLRLRRRLRRRLRLRLRLLRRLLRRLRRRLLRLRRRLRLRLRRRLLRLRRLRRRLRLRRRLLRLRRLRRRLRRLRRLRLRRLRRRLRLRRRLRRLLRRLRRLRLRRRLRRLRRRLRRRLRLRRLRLRRRLRLRRLRRLRRRLRRRLRRRLLRRLRRRLRLRLRLRRRLRLRLRRLRRRLRRRLRRLRRLLRLRRLLRLRRLRRLLRLLRRRLLRRLLRRLRRLRLRLRRRLLRRLRRRR\" #times three just in case \n",
    "instructions =  instructions*50 #repeat string 50 times (ball park estimation :P)\n",
    "instructions =  list(instructions)\n",
    "\n",
    "first_item = \"AAA\"\n",
    "walk(key=first_item,step_count=0, instructions=instructions, network_map=network_map)"
   ]
  },
  {
   "cell_type": "code",
   "execution_count": 11,
   "metadata": {},
   "outputs": [
    {
     "name": "stdout",
     "output_type": "stream",
     "text": [
      "LPA ('nr of steps for BRZ : 18157', 18157)\n",
      "XKA ('nr of steps for QSZ : 11653', 11653)\n",
      "QGA ('nr of steps for MCZ : 21409', 21409)\n",
      "AAA ('nr of steps for ZZZ : 12737', 12737)\n",
      "HHA ('nr of steps for LRZ : 14363', 14363)\n",
      "LTA ('nr of steps for BKZ : 15989', 15989)\n"
     ]
    },
    {
     "data": {
      "text/plain": [
       "9064949303801"
      ]
     },
     "execution_count": 11,
     "metadata": {},
     "output_type": "execute_result"
    }
   ],
   "source": [
    "#part 2\n",
    "lines = [*open(\"input.txt\")]\n",
    "network_map = {line[:3]: line[6:-2].replace(\"(\", \"\").split(\", \") for line in lines}\n",
    "network_map[\"GXX\"] = ['LJB', 'MDJ'] #hot fix! wtf \n",
    "instructions = 500 * \"LRRRLRRRLRRLRLRRLRLRRLRRLRLLRRRLRLRLRRRLRRRLRLRLRLLRRLLRRLRRRLLRLRRRLRLRLRRRLLRLRRLRRRLRLRRRLLRLRRLRRRLRRLRRLRLRRLRRRLRLRRRLRRLLRRLRRLRLRRRLRRLRRRLRRRLRLRRLRLRRRLRLRRLRRLRRRLRRRLRRRLLRRLRRRLRLRLRLRRRLRLRLRRLRRRLRRRLRRLRRLLRLRRLLRLRRLRRLLRLLRRRLLRRLLRRLRRLRLRLRRRLLRRLRRRR\" #times three just in case \n",
    "instructions =  list(instructions)\n",
    "#find out how many end with A, Z\n",
    "keys_ending_with_A, keys_ending_with_Z = [key for key in network_map if key.endswith('A')], [key for key in network_map if key.endswith('Z')]\n",
    "\n",
    "cycles = []\n",
    "for key in keys_ending_with_A: \n",
    "    steps = walk_p2(key=key,targets=keys_ending_with_Z, step_count=0, instructions=instructions, network_map=network_map)\n",
    "    print(key, steps) #its lucky that this has no overlaps\n",
    "    cycles.append(steps[1])\n",
    "#answer \n",
    "math.lcm(*cycles)"
   ]
  }
 ],
 "metadata": {
  "kernelspec": {
   "display_name": "Python 3",
   "language": "python",
   "name": "python3"
  },
  "language_info": {
   "codemirror_mode": {
    "name": "ipython",
    "version": 3
   },
   "file_extension": ".py",
   "mimetype": "text/x-python",
   "name": "python",
   "nbconvert_exporter": "python",
   "pygments_lexer": "ipython3",
   "version": "3.11.0"
  }
 },
 "nbformat": 4,
 "nbformat_minor": 2
}
