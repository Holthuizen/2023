{
 "cells": [
  {
   "cell_type": "code",
   "execution_count": 1,
   "metadata": {},
   "outputs": [],
   "source": [
    "import sys, math\n",
    "sys.setrecursionlimit(30000)# Set the maximum recursion depth to 30k"
   ]
  },
  {
   "cell_type": "code",
   "execution_count": 4,
   "metadata": {},
   "outputs": [],
   "source": [
    "def walk(key, targets, step_count, instructions, network_map):\n",
    "    if key in targets:\n",
    "        return f\"answer part 1\", step_count\n",
    "    return walk(key=network_map[key][int(instructions.pop(0)==\"R\")], targets=targets, step_count=step_count+1, instructions=instructions, network_map=network_map)"
   ]
  },
  {
   "cell_type": "code",
   "execution_count": 5,
   "metadata": {},
   "outputs": [
    {
     "data": {
      "text/plain": [
       "('answer part 1', 12737)"
      ]
     },
     "execution_count": 5,
     "metadata": {},
     "output_type": "execute_result"
    }
   ],
   "source": [
    "network_map = {line[:3]: line[6:-2].replace(\"(\", \"\").split(\", \") for line in [*open(\"input.txt\")]}\n",
    "network_map[\"GXX\"] = ['LJB', 'MDJ'] #hot fix! wtf \n",
    "instructions = list((500*\"LRRRLRRRLRRLRLRRLRLRRLRRLRLLRRRLRLRLRRRLRRRLRLRLRLLRRLLRRLRRRLLRLRRRLRLRLRRRLLRLRRLRRRLRLRRRLLRLRRLRRRLRRLRRLRLRRLRRRLRLRRRLRRLLRRLRRLRLRRRLRRLRRRLRRRLRLRRLRLRRRLRLRRLRRLRRRLRRRLRRRLLRRLRRRLRLRLRLRRRLRLRLRRLRRRLRRRLRRLRRLLRLRRLLRLRRLRRLLRLLRRRLLRRLLRRLRRLRLRLRRRLLRRLRRRR\")) #times three just in case \n",
    "walk(key=\"AAA\",targets=[\"ZZZ\"],step_count=0, instructions=instructions.copy(), network_map=network_map.copy())"
   ]
  },
  {
   "cell_type": "code",
   "execution_count": 6,
   "metadata": {},
   "outputs": [
    {
     "data": {
      "text/plain": [
       "('answer part 2:', 9064949303801)"
      ]
     },
     "execution_count": 6,
     "metadata": {},
     "output_type": "execute_result"
    }
   ],
   "source": [
    "keys_ending_with_A, keys_ending_with_Z = [key for key in network_map if key.endswith('A')], [key for key in network_map if key.endswith('Z')]\n",
    "\"answer part 2:\",math.lcm(*[walk(key=key,targets=keys_ending_with_Z, step_count=0, instructions=instructions, network_map=network_map)[1] for key in keys_ending_with_A])"
   ]
  }
 ],
 "metadata": {
  "kernelspec": {
   "display_name": "Python 3",
   "language": "python",
   "name": "python3"
  },
  "language_info": {
   "codemirror_mode": {
    "name": "ipython",
    "version": 3
   },
   "file_extension": ".py",
   "mimetype": "text/x-python",
   "name": "python",
   "nbconvert_exporter": "python",
   "pygments_lexer": "ipython3",
   "version": "3.11.0"
  }
 },
 "nbformat": 4,
 "nbformat_minor": 2
}
