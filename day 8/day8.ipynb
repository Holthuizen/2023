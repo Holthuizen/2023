{
 "cells": [
  {
   "cell_type": "code",
   "execution_count": 53,
   "metadata": {},
   "outputs": [],
   "source": [
    "import sys\n",
    "# Set the maximum recursion depth to 20k\n",
    "sys.setrecursionlimit(20000)"
   ]
  },
  {
   "cell_type": "code",
   "execution_count": 81,
   "metadata": {},
   "outputs": [],
   "source": [
    "#recursive, this might be slow\n",
    "def walk(key, step_count, instructions, network_map):\n",
    "    #print(key, step_count)\n",
    "    if key == \"ZZZ\":\n",
    "        return \"answer:\", step_count\n",
    "    if len(instructions) < 1:\n",
    "        return \"end of the line\", step_count\n",
    "    _inst = instructions.pop(0)\n",
    "    key = network_map[key][int(_inst == \"R\")]\n",
    "    step_count+= 1\n",
    "    return walk(key=key, step_count=step_count, instructions=instructions, network_map=network_map)"
   ]
  },
  {
   "cell_type": "code",
   "execution_count": 84,
   "metadata": {},
   "outputs": [
    {
     "name": "stdout",
     "output_type": "stream",
     "text": [
      "13550\n"
     ]
    },
    {
     "data": {
      "text/plain": [
       "('answer:', 12737)"
      ]
     },
     "execution_count": 84,
     "metadata": {},
     "output_type": "execute_result"
    }
   ],
   "source": [
    "#part 1\n",
    "lines = [*open(\"input.txt\")]\n",
    "network_map = {line[:3]: line[6:-2].replace(\"(\", \"\").split(\", \") for line in lines}\n",
    "\n",
    "print(len(instructions))\n",
    "first_item = \"AAA\"\n",
    "walk(key=first_item,step_count=0, instructions=instructions, network_map=network_map)"
   ]
  },
  {
   "cell_type": "code",
   "execution_count": null,
   "metadata": {},
   "outputs": [],
   "source": [
    "#part 2\n",
    "instructions = \"LRRRLRRRLRRLRLRRLRLRRLRRLRLLRRRLRLRLRRRLRRRLRLRLRLLRRLLRRLRRRLLRLRRRLRLRLRRRLLRLRRLRRRLRLRRRLLRLRRLRRRLRRLRRLRLRRLRRRLRLRRRLRRLLRRLRRLRLRRRLRRLRRRLRRRLRLRRLRLRRRLRLRRLRRLRRRLRRRLRRRLLRRLRRRLRLRLRLRRRLRLRLRRLRRRLRRRLRRLRRLLRLRRLLRLRRLRRLLRLLRRRLLRRLLRRLRRLRLRLRRRLLRRLRRRR\" #times three just in case \n",
    "instructions =  instructions*50\n",
    "instructions =  list(instructions)\n",
    "#find out how many end with A\n",
    "keys_ending_with_A = [key for key in network_map if key.endswith('A')]\n",
    "#find out how many end with A\n",
    "keys_ending_with_Z = [key for key in network_map if key.endswith('Z')]\n",
    "\n"
   ]
  },
  {
   "cell_type": "code",
   "execution_count": 88,
   "metadata": {},
   "outputs": [],
   "source": []
  },
  {
   "cell_type": "code",
   "execution_count": 89,
   "metadata": {},
   "outputs": [
    {
     "data": {
      "text/plain": [
       "(['LPA', 'XKA', 'QGA', 'AAA', 'HHA', 'LTA'],\n",
       " ['ZZZ', 'BRZ', 'LRZ', 'BKZ', 'QSZ', 'MCZ'])"
      ]
     },
     "execution_count": 89,
     "metadata": {},
     "output_type": "execute_result"
    }
   ],
   "source": [
    "keys_ending_with_A, keys_ending_with_Z"
   ]
  },
  {
   "cell_type": "code",
   "execution_count": null,
   "metadata": {},
   "outputs": [],
   "source": []
  }
 ],
 "metadata": {
  "kernelspec": {
   "display_name": "Python 3",
   "language": "python",
   "name": "python3"
  },
  "language_info": {
   "codemirror_mode": {
    "name": "ipython",
    "version": 3
   },
   "file_extension": ".py",
   "mimetype": "text/x-python",
   "name": "python",
   "nbconvert_exporter": "python",
   "pygments_lexer": "ipython3",
   "version": "3.11.0"
  }
 },
 "nbformat": 4,
 "nbformat_minor": 2
}
