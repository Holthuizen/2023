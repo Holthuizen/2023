{
 "cells": [
  {
   "cell_type": "code",
   "execution_count": 1,
   "metadata": {},
   "outputs": [],
   "source": [
    "import sys\n",
    "import math\n",
    "# Set the maximum recursion depth to 50k\n",
    "sys.setrecursionlimit(500000)"
   ]
  },
  {
   "cell_type": "code",
   "execution_count": 2,
   "metadata": {},
   "outputs": [],
   "source": [
    "#recursive, this might be slow\n",
    "def walk(key, step_count, instructions, network_map):\n",
    "    #print(key, step_count)\n",
    "    if key == \"ZZZ\":\n",
    "        return \"answer:\", step_count\n",
    "    if len(instructions) < 1:\n",
    "        return \"end of the line\", step_count\n",
    "    _inst = instructions.pop(0)\n",
    "    key = network_map[key][int(_inst == \"R\")]\n",
    "    step_count+= 1\n",
    "    return walk(key=key, step_count=step_count, instructions=instructions, network_map=network_map)\n",
    "\n",
    "\n",
    "def walk_p2(key, targets, step_count, instructions, network_map):\n",
    "    #print(key, step_count)\n",
    "    if key in targets:\n",
    "        return f\"nr of steps for {key} : {step_count}\", step_count\n",
    "    if len(instructions) < 1:\n",
    "        return \"end of the line\", step_count\n",
    "    _inst = instructions.pop(0)\n",
    "    key = network_map[key][int(_inst == \"R\")]\n",
    "    step_count+= 1\n",
    "    return walk_p2(key=key, targets=targets, step_count=step_count, instructions=instructions, network_map=network_map)"
   ]
  },
  {
   "cell_type": "code",
   "execution_count": 3,
   "metadata": {},
   "outputs": [
    {
     "data": {
      "text/plain": [
       "('answer:', 12737)"
      ]
     },
     "execution_count": 3,
     "metadata": {},
     "output_type": "execute_result"
    }
   ],
   "source": [
    "#part 1\n",
    "lines = [*open(\"input.txt\")]\n",
    "network_map = {line[:3]: line[6:-2].replace(\"(\", \"\").split(\", \") for line in lines}\n",
    "\n",
    "instructions = \"LRRRLRRRLRRLRLRRLRLRRLRRLRLLRRRLRLRLRRRLRRRLRLRLRLLRRLLRRLRRRLLRLRRRLRLRLRRRLLRLRRLRRRLRLRRRLLRLRRLRRRLRRLRRLRLRRLRRRLRLRRRLRRLLRRLRRLRLRRRLRRLRRRLRRRLRLRRLRLRRRLRLRRLRRLRRRLRRRLRRRLLRRLRRRLRLRLRLRRRLRLRLRRLRRRLRRRLRRLRRLLRLRRLLRLRRLRRLLRLLRRRLLRRLLRRLRRLRLRLRRRLLRRLRRRR\" #times three just in case \n",
    "instructions =  instructions*50 #repeat string 50 times (ball park estimation :P)\n",
    "instructions =  list(instructions)\n",
    "\n",
    "#print(len(instructions))\n",
    "first_item = \"AAA\"\n",
    "walk(key=first_item,step_count=0, instructions=instructions, network_map=network_map)"
   ]
  },
  {
   "cell_type": "code",
   "execution_count": 4,
   "metadata": {},
   "outputs": [
    {
     "name": "stdout",
     "output_type": "stream",
     "text": [
      "149050\n",
      "LPA ('nr of steps for BRZ : 18157', 18157)\n",
      "XKA ('nr of steps for QSZ : 11653', 11653)\n",
      "QGA ('nr of steps for MCZ : 21409', 21409)\n",
      "AAA ('nr of steps for ZZZ : 12737', 12737)\n",
      "HHA ('nr of steps for LRZ : 14363', 14363)\n",
      "LTA ('nr of steps for BKZ : 15989', 15989)\n"
     ]
    },
    {
     "data": {
      "text/plain": [
       "9064949303801"
      ]
     },
     "execution_count": 4,
     "metadata": {},
     "output_type": "execute_result"
    }
   ],
   "source": [
    "#part 2\n",
    "lines = [*open(\"input.txt\")]\n",
    "network_map = {line[:3]: line[6:-2].replace(\"(\", \"\").split(\", \") for line in lines}\n",
    "network_map[\"GXX\"] = ['LJB', 'MDJ'] #hot fix! wtf \n",
    "instructions = \"LRRRLRRRLRRLRLRRLRLRRLRRLRLLRRRLRLRLRRRLRRRLRLRLRLLRRLLRRLRRRLLRLRRRLRLRLRRRLLRLRRLRRRLRLRRRLLRLRRLRRRLRRLRRLRLRRLRRRLRLRRRLRRLLRRLRRLRLRRRLRRLRRRLRRRLRLRRLRLRRRLRLRRLRRLRRRLRRRLRRRLLRRLRRRLRLRLRLRRRLRLRLRRLRRRLRRRLRRLRRLLRLRRLLRLRRLRRLLRLLRRRLLRRLLRRLRRLRLRLRRRLLRRLRRRR\" #times three just in case \n",
    "instructions =  instructions*550\n",
    "instructions =  list(instructions)\n",
    "print(len(instructions))\n",
    "#find out how many end with A\n",
    "keys_ending_with_A = [key for key in network_map if key.endswith('A')]\n",
    "#find out how many end with A\n",
    "keys_ending_with_Z = [key for key in network_map if key.endswith('Z')]\n",
    "\n",
    "#cycles\n",
    "cycles = []\n",
    "for key in keys_ending_with_A: \n",
    "    steps = walk_p2(key=key,targets=keys_ending_with_Z, step_count=0, instructions=instructions, network_map=network_map)\n",
    "    print(key, steps) #its lucky that this results in no overlap\n",
    "    cycles.append(steps[1])\n",
    "\n",
    "#answer \n",
    "lcm = math.lcm(*cycles)\n",
    "lcm"
   ]
  },
  {
   "cell_type": "code",
   "execution_count": 5,
   "metadata": {},
   "outputs": [
    {
     "name": "stdout",
     "output_type": "stream",
     "text": [
      "542000000\n"
     ]
    }
   ],
   "source": [
    "#part 2 (no longer used)\n",
    "#recursive, this is very slow!\n",
    "def walk_simultaneous(keys, step_count, instructions, network_map, end_set):\n",
    "    #print(step_count, keys)\n",
    "    #i hope that this works as a matching condition?\n",
    "    if sorted(keys) == sorted(end_set):\n",
    "        return \"answer:\", step_count\n",
    "    if len(instructions) < 1:\n",
    "        return \"end of the line, not enough instructions given\", step_count\n",
    "    _inst = instructions.pop(0) #next instruction\n",
    "    _inst = int(_inst == \"R\") #convert to 0 or 1\n",
    "    keys = [network_map[key][_inst] for key in keys]\n",
    "    step_count+= 1\n",
    "    return walk_simultaneous(keys=keys, step_count=step_count, instructions=instructions, network_map=network_map, end_set=end_set)\n",
    "\n",
    "lines = [*open(\"input.txt\")]\n",
    "network_map = {line[:3]: line[6:-2].replace(\"(\", \"\").split(\", \") for line in lines}\n",
    "network_map[\"GXX\"] = ['LJB', 'MDJ'] #hot fix! wtf \n",
    "instructions = \"LRRRLRRRLRRLRLRRLRLRRLRRLRLLRRRLRLRLRRRLRRRLRLRLRLLRRLLRRLRRRLLRLRRRLRLRLRRRLLRLRRLRRRLRLRRRLLRLRRLRRRLRRLRRLRLRRLRRRLRLRRRLRRLLRRLRRLRLRRRLRRLRRRLRRRLRLRRLRLRRRLRLRRLRRLRRRLRRRLRRRLLRRLRRRLRLRLRLRRRLRLRLRRLRRRLRRRLRRLRRLLRLRRLLRLRRLRRLLRLLRRRLLRRLLRRLRRLRLRLRRRLLRRLRRRR\" #times three just in case \n",
    "instructions =  instructions*2000000\n",
    "instructions =  list(instructions)\n",
    "print(len(instructions))\n",
    "#find out how many end with A\n",
    "keys_ending_with_A = [key for key in network_map if key.endswith('A')]\n",
    "#find out how many end with A\n",
    "keys_ending_with_Z = [key for key in network_map if key.endswith('Z')]\n",
    "\n",
    "#print(len(instructions))\n",
    "# first_items = keys_ending_with_A\n",
    "# walk_simultaneous(keys=first_items,\n",
    "#                   step_count=0, \n",
    "#                   instructions=instructions, \n",
    "#                   network_map=network_map, end_set=keys_ending_with_Z)"
   ]
  }
 ],
 "metadata": {
  "kernelspec": {
   "display_name": "Python 3",
   "language": "python",
   "name": "python3"
  },
  "language_info": {
   "codemirror_mode": {
    "name": "ipython",
    "version": 3
   },
   "file_extension": ".py",
   "mimetype": "text/x-python",
   "name": "python",
   "nbconvert_exporter": "python",
   "pygments_lexer": "ipython3",
   "version": "3.11.0"
  }
 },
 "nbformat": 4,
 "nbformat_minor": 2
}
