{
 "cells": [
  {
   "cell_type": "code",
   "execution_count": 2,
   "metadata": {},
   "outputs": [],
   "source": [
    "#setup\n",
    "import numpy as np\n",
    "import matplotlib.pyplot as plt\n",
    "import regex as re\n",
    "\n",
    "DAY = 1\n",
    "FIRST_PART_DONE = True #set to false to true switch to part 2"
   ]
  },
  {
   "cell_type": "markdown",
   "metadata": {},
   "source": [
    "# Part 1"
   ]
  },
  {
   "cell_type": "code",
   "execution_count": 93,
   "metadata": {},
   "outputs": [
    {
     "data": {
      "text/plain": [
       "54632"
      ]
     },
     "execution_count": 93,
     "metadata": {},
     "output_type": "execute_result"
    }
   ],
   "source": [
    "def sum_first_and_last_digit(filename):\n",
    "    total_sum = \"\"\n",
    "    with open(filename, 'r') as file:\n",
    "        for line in file:\n",
    "            matches = re.findall(r'\\d', line)\n",
    "            if len(matches) > 0:\n",
    "                total_sum += \"+ \" + matches[0] + matches[-1]\n",
    "    return total_sum\n",
    "x = sum_first_and_last_digit(\"input_p1.txt\")\n",
    "eval(x[2:])"
   ]
  },
  {
   "cell_type": "markdown",
   "metadata": {},
   "source": [
    "# Part 2"
   ]
  },
  {
   "cell_type": "code",
   "execution_count": 115,
   "metadata": {},
   "outputs": [
    {
     "name": "stdout",
     "output_type": "stream",
     "text": [
      "(\\d|one|two|three|four|five|six|seven|eight|nine)\n"
     ]
    },
    {
     "data": {
      "text/plain": [
       "54019"
      ]
     },
     "execution_count": 115,
     "metadata": {},
     "output_type": "execute_result"
    }
   ],
   "source": [
    "def sum_first_and_last_digit(filename):\n",
    "    total_sum = \"\"\n",
    "    words = ['one','two','three','four','five','six','seven','eight','nine']\n",
    "    numbers_string = '|'.join(words)\n",
    "    print(f\"(\\d|{numbers_string})\")\n",
    "    with open(filename, 'r') as file:\n",
    "        for line in file:\n",
    "            matches = re.findall(rf\"(\\d|{numbers_string})\", line, overlapped=True)\n",
    "            if len(matches) > 0:\n",
    "                a = matches[0]\n",
    "                b = matches[-1]\n",
    "                if a in words: \n",
    "                    a = str(words.index(a)+1)\n",
    "                if b in words: \n",
    "                    b = str(words.index(b)+1)                    \n",
    "                total_sum += \"+ \" + a + b\n",
    "    return total_sum\n",
    "x = sum_first_and_last_digit(\"input_p2.txt\")\n",
    "eval(x[2:])"
   ]
  },
  {
   "cell_type": "code",
   "execution_count": 116,
   "metadata": {},
   "outputs": [],
   "source": [
    "lines = [*open(\"example_p2.txt\")]\n",
    "words = ['one','two','three','four','five','six','seven','eight','nine']\n",
    "for line in lines: \n",
    "    a = line.find(\"\")"
   ]
  },
  {
   "cell_type": "markdown",
   "metadata": {},
   "source": []
  },
  {
   "cell_type": "code",
   "execution_count": 117,
   "metadata": {},
   "outputs": [
    {
     "data": {
      "text/plain": [
       "['two1nine\\n',\n",
       " 'eightwothree\\n',\n",
       " 'abcone2threexyz\\n',\n",
       " 'xtwone3four\\n',\n",
       " '4nineeightseven2\\n',\n",
       " 'zoneight234\\n',\n",
       " '7pqrstsixteen']"
      ]
     },
     "execution_count": 117,
     "metadata": {},
     "output_type": "execute_result"
    }
   ],
   "source": [
    "lines"
   ]
  },
  {
   "cell_type": "code",
   "execution_count": null,
   "metadata": {},
   "outputs": [],
   "source": []
  }
 ],
 "metadata": {
  "kernelspec": {
   "display_name": "Python 3",
   "language": "python",
   "name": "python3"
  },
  "language_info": {
   "codemirror_mode": {
    "name": "ipython",
    "version": 3
   },
   "file_extension": ".py",
   "mimetype": "text/x-python",
   "name": "python",
   "nbconvert_exporter": "python",
   "pygments_lexer": "ipython3",
   "version": "3.11.0"
  }
 },
 "nbformat": 4,
 "nbformat_minor": 2
}
