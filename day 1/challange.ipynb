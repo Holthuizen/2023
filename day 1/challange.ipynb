{
 "cells": [
  {
   "cell_type": "code",
   "execution_count": 2,
   "metadata": {},
   "outputs": [],
   "source": [
    "#setup\n",
    "import regex as re\n",
    "\n",
    "DAY = 1\n",
    "FIRST_PART_DONE = True #set to false to true switch to part 2"
   ]
  },
  {
   "cell_type": "markdown",
   "metadata": {},
   "source": [
    "# Part 1"
   ]
  },
  {
   "cell_type": "code",
   "execution_count": 3,
   "metadata": {},
   "outputs": [
    {
     "data": {
      "text/plain": [
       "54602"
      ]
     },
     "execution_count": 3,
     "metadata": {},
     "output_type": "execute_result"
    }
   ],
   "source": [
    "total_sum = \"\" #store the sum as a concatenated string\n",
    "for line in [*open('input_p1.txt')]:\n",
    "    matches = re.findall(r'\\d', line) #using regular expression \"\\d\" to find all digest of one line\n",
    "    if len(matches) > 0: #in the case that you find digest do:\n",
    "        total_sum += \"+\" + matches[0] + matches[-1] #and the first 0 and last -1 found digit in matches\n",
    "eval(total_sum[2:]) #evaluate the string so for example 1+2+3 = 6"
   ]
  },
  {
   "cell_type": "markdown",
   "metadata": {},
   "source": [
    "# Part 2"
   ]
  },
  {
   "cell_type": "code",
   "execution_count": null,
   "metadata": {},
   "outputs": [],
   "source": [
    "def sum_first_and_last_digit(filename):\n",
    "    total_sum = \"\"\n",
    "    words = ['one','two','three','four','five','six','seven','eight','nine']\n",
    "    numbers_string = '|'.join(words)\n",
    "    print(f\"(\\d|{numbers_string})\")\n",
    "    with open(filename, 'r') as file:\n",
    "        for line in file:\n",
    "            matches = re.findall(rf\"(\\d|{numbers_string})\", line, overlapped=True)\n",
    "            if len(matches) > 0:\n",
    "                a = matches[0]\n",
    "                b = matches[-1]\n",
    "                if a in words: \n",
    "                    a = str(words.index(a)+1)\n",
    "                if b in words: \n",
    "                    b = str(words.index(b)+1)                    \n",
    "                total_sum += \"+ \" + a + b\n",
    "    return total_sum\n",
    "x = sum_first_and_last_digit(\"input_p2.txt\")\n",
    "eval(x[2:])"
   ]
  },
  {
   "cell_type": "code",
   "execution_count": null,
   "metadata": {},
   "outputs": [],
   "source": [
    "lines = [*open(\"example_p2.txt\")]\n",
    "print(lines)\n",
    "written_numbers = ['one','two','three','four','five','six','seven','eight','nine']\n",
    "digits = range(1,10)\n",
    "for line in lines: \n",
    "    wn = [line.find(wn) for wn in written_numbers]\n",
    "    print(wn)\n",
    "    #to be continued"
   ]
  }
 ],
 "metadata": {
  "kernelspec": {
   "display_name": "Python 3",
   "language": "python",
   "name": "python3"
  },
  "language_info": {
   "codemirror_mode": {
    "name": "ipython",
    "version": 3
   },
   "file_extension": ".py",
   "mimetype": "text/x-python",
   "name": "python",
   "nbconvert_exporter": "python",
   "pygments_lexer": "ipython3",
   "version": "3.11.0"
  }
 },
 "nbformat": 4,
 "nbformat_minor": 2
}
