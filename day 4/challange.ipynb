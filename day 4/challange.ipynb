{
 "cells": [
  {
   "cell_type": "code",
   "execution_count": 1,
   "metadata": {},
   "outputs": [],
   "source": [
    "#setup\n",
    "import regex as re\n",
    "import math\n",
    "import numpy as np\n",
    "DAY = 4"
   ]
  },
  {
   "cell_type": "markdown",
   "metadata": {},
   "source": [
    "# Part 1"
   ]
  },
  {
   "cell_type": "code",
   "execution_count": 2,
   "metadata": {},
   "outputs": [
    {
     "data": {
      "text/plain": [
       "28538"
      ]
     },
     "execution_count": 2,
     "metadata": {},
     "output_type": "execute_result"
    }
   ],
   "source": [
    "cards = [*open(\"input.txt\")]\n",
    "total_points = 0\n",
    "for id , card in enumerate(cards):\n",
    "    card = card[8:]\n",
    "    a,b = card.split(\"|\") #split string in numbers you have and winning numbers\n",
    "    a, b = re.findall(r\"\\b\\d{1,2}\\b\", a), re.findall(r\"\\b\\d{1,2}\\b\", b)\n",
    "    overlaps = len(a.intersection(b))\n",
    "    total_points += math.floor(2**(overlaps-1))\n",
    "total_points"
   ]
  },
  {
   "cell_type": "markdown",
   "metadata": {},
   "source": [
    "# Part 2"
   ]
  },
  {
   "cell_type": "code",
   "execution_count": 3,
   "metadata": {},
   "outputs": [
    {
     "data": {
      "text/plain": [
       "220"
      ]
     },
     "execution_count": 3,
     "metadata": {},
     "output_type": "execute_result"
    }
   ],
   "source": [
    "cards = [*open(\"input.txt\")]\n",
    "overlaps = []\n",
    "for id , card in enumerate(cards):\n",
    "    card = card[8:]#remove card nr\n",
    "    a,b = card.split(\"|\") #split string in winning numbers and numbers you have\n",
    "    a, b = set(re.findall(r\"\\b\\d{1,2}\\b\", a)), set(re.findall(r\"\\b\\d{1,2}\\b\", b))\n",
    "    overlaps.append(len(a.intersection(b)))   \n",
    "len(overlaps)"
   ]
  },
  {
   "cell_type": "code",
   "execution_count": 4,
   "metadata": {},
   "outputs": [
    {
     "name": "stdout",
     "output_type": "stream",
     "text": [
      "12.2 s ± 66 ms per loop (mean ± std. dev. of 7 runs, 1 loop each)\n"
     ]
    }
   ],
   "source": [
    "# %%timeit\n",
    "# freq = np.ones(len(overlaps)).astype(\"int\")\n",
    "# hits = np.array(overlaps).astype(\"int\")\n",
    "# for i,h in enumerate(hits):\n",
    "#    start = i+1 #next position (first possible copy)\n",
    "#    for j in range(freq[i]): #repeat for copies\n",
    "#      freq[start:min(start+h,len(hits)-1)] += 1\n",
    "# freq"
   ]
  },
  {
   "cell_type": "code",
   "execution_count": 14,
   "metadata": {},
   "outputs": [
    {
     "name": "stdout",
     "output_type": "stream",
     "text": [
      "328 µs ± 4.78 µs per loop (mean ± std. dev. of 7 runs, 1,000 loops each)\n"
     ]
    }
   ],
   "source": [
    "def optimized_scratchcard(overlaps):\n",
    "    freq = np.ones(len(overlaps), dtype=\"int\")\n",
    "    hits = np.array(overlaps, dtype=\"int\")\n",
    "    \n",
    "    for i, h in enumerate(hits):\n",
    "        start = i+1 # next position (first possible copy)\n",
    "        stop = start+h\n",
    "        if  stop < len(hits):\n",
    "            freq[start:stop] += 1 * freq[i]\n",
    "\n",
    "    return sum(freq)\n",
    "total_cards = optimized_scratchcard(overlaps)\n",
    "print(total_cards)"
   ]
  },
  {
   "cell_type": "markdown",
   "metadata": {},
   "source": []
  }
 ],
 "metadata": {
  "kernelspec": {
   "display_name": "Python 3",
   "language": "python",
   "name": "python3"
  },
  "language_info": {
   "codemirror_mode": {
    "name": "ipython",
    "version": 3
   },
   "file_extension": ".py",
   "mimetype": "text/x-python",
   "name": "python",
   "nbconvert_exporter": "python",
   "pygments_lexer": "ipython3",
   "version": "3.11.0"
  }
 },
 "nbformat": 4,
 "nbformat_minor": 2
}
